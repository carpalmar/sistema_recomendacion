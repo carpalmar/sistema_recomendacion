{
  "nbformat": 4,
  "nbformat_minor": 0,
  "metadata": {
    "colab": {
      "provenance": [],
      "machine_shape": "hm",
      "include_colab_link": true
    },
    "kernelspec": {
      "name": "python3",
      "display_name": "Python 3"
    },
    "language_info": {
      "name": "python"
    }
  },
  "cells": [
    {
      "cell_type": "markdown",
      "metadata": {
        "id": "view-in-github",
        "colab_type": "text"
      },
      "source": [
        "<a href=\"https://colab.research.google.com/github/carpalmar/sistema_recomendacion/blob/main/Hybrid_Recommender/Book_Crossing_Hybrid.ipynb\" target=\"_parent\"><img src=\"https://colab.research.google.com/assets/colab-badge.svg\" alt=\"Open In Colab\"/></a>"
      ]
    },
    {
      "cell_type": "markdown",
      "source": [
        "\n",
        "<h1 align=center><font size = 5> Hybrid\n",
        " Recommender</font></h1>\n",
        "\n",
        "---"
      ],
      "metadata": {
        "id": "xojo8Uolpezq"
      }
    },
    {
      "cell_type": "markdown",
      "source": [
        "<center>\n",
        "  <img src=\"https://storage.googleapis.com/kaggle-datasets-images/1661575/2726067/684ac0c4c14cb46d1047ccb620b45cac/dataset-cover.jpg?t=2021-10-21-03-18-09\" width=\"800\" height=\"300\">\n",
        "</center>\n"
      ],
      "metadata": {
        "id": "N8k0D4hUpQtd"
      }
    },
    {
      "cell_type": "markdown",
      "source": [
        "## Objetivo de este Notebook\n",
        "\n",
        "1. Cargar y preprocesar un Dataset.\n",
        "2. Realizar un sistema de recomendación basado en hybrid methods.\n",
        "3. Comprobar el performance del sistema."
      ],
      "metadata": {
        "id": "8FbV_eL8qMhx"
      }
    },
    {
      "cell_type": "markdown",
      "source": [
        "## Tabla de Contenidos\n",
        "\n",
        "<div class=\"alert alert-block alert-info\" style=\"margin-top: 20px\">\n",
        "\n",
        "<font size = 3>\n",
        "    \n",
        "1. <a href=\"#item31\">Contexto</a>  \n",
        "2. <a href=\"#item32\">Descargar y preparar el Dataset</a>  \n",
        "6. <a href=\"#item34\">Entrenamiento del modelo</a>  \n",
        "6. <a href=\"#item34\">Validación del modelo</a>  \n",
        "\n",
        "</font>\n",
        "</div>"
      ],
      "metadata": {
        "id": "fwc_GHBnvBdo"
      }
    },
    {
      "cell_type": "markdown",
      "source": [
        "### 1. Contexto"
      ],
      "metadata": {
        "id": "1ClPvzs6qk8D"
      }
    },
    {
      "cell_type": "markdown",
      "source": [
        "\n",
        "El conjunto de datos \"Book-Crossing\" (también conocido como BX) es una colección de datos relacionados con libros y reseñas de libros. Este conjunto de datos se centra en la interacción de los usuarios con libros y sus calificaciones, y es ampliamente utilizado en aplicaciones de sistemas de recomendación.\n"
      ],
      "metadata": {
        "id": "wOY_1u5Bq6Kz"
      }
    },
    {
      "cell_type": "markdown",
      "source": [
        "<b>Descripción de datos</b>\n",
        "\n",
        "\n",
        "El conjunto de datos Book-Crossing contiene información sobre:\n",
        "\n",
        "---"
      ],
      "metadata": {
        "id": "ZMj-OeUK3N4e"
      }
    },
    {
      "cell_type": "markdown",
      "source": [
        "\n",
        "<b>Usuarios (BX-Users):</b>\n",
        "\n",
        "Contiene la información del usuario. Los campos incluyen:\n",
        "\n",
        "* User-ID: Un identificador único para cada usuario.\n",
        "* Location: La ubicación del usuario.\n",
        "* Age: La edad del usuario.\n"
      ],
      "metadata": {
        "id": "Nus_rbKK3Rjb"
      }
    },
    {
      "cell_type": "markdown",
      "source": [
        "\n",
        "\n",
        "<b>Libros (BX-Books):</b>\n",
        "\n",
        "Contiene la información de los libros. Los campos incluyen:\n",
        "\n",
        "* ISBN: Número de ISBN del libro, que es un identificador único.\n",
        "* Book-Title: El título del libro.\n",
        "* Book-Author: El autor del libro.\n",
        "* Year-Of-Publication: El año de publicación del libro.\n",
        "* Publisher: El editor del libro.\n",
        "* Otras informaciones adicionales sobre los libros."
      ],
      "metadata": {
        "id": "8L9qQXEi3TXO"
      }
    },
    {
      "cell_type": "markdown",
      "source": [
        "\n",
        "\n",
        "\n",
        "<b>Evaluaciones (BX-Book-Ratings):</b>\n",
        "\n",
        "Contiene las evaluaciones de los libros. Los campos incluyen:\n",
        "\n",
        "* User-ID: El identificador del usuario que dio la evaluación.\n",
        "* ISBN: El ISBN del libro evaluado.\n",
        "* Book-Rating: La calificación del libro en una escala (por lo general, de 1 a 10).\n",
        "\n",
        "\n"
      ],
      "metadata": {
        "id": "uiYshhXFrHiC"
      }
    },
    {
      "cell_type": "markdown",
      "source": [
        "---\n",
        "\n",
        "\n",
        "\n",
        "<strong>Puede consultar este [link](https://www.kaggle.com/datasets/syedjaferk/book-crossing-dataset) para leer más sobre la fuente de datos Book Crossing.</strong>"
      ],
      "metadata": {
        "id": "g6DfXA293X-X"
      }
    },
    {
      "cell_type": "markdown",
      "source": [
        "### 2. Descargar y preparar Dataset"
      ],
      "metadata": {
        "id": "6XVvIx3sr_Q0"
      }
    },
    {
      "cell_type": "code",
      "source": [
        "# Download Book-Crossing Dataset\n",
        "!curl -o dataset.zip \"http://www2.informatik.uni-freiburg.de/~cziegler/BX/BX-CSV-Dump.zip\"\n",
        "!unzip dataset.zip\n",
        "!ls -la"
      ],
      "metadata": {
        "id": "rsPg7ZwxfHE4"
      },
      "execution_count": null,
      "outputs": []
    },
    {
      "cell_type": "code",
      "source": [
        "!curl -L -o dataset.zip \"https://drive.google.com/uc?id=1P7_nW6mZAVgf7sDqdm3SaR9_ZaCOeyjI&export=download&authuser=0\"\n",
        "!unzip dataset.zip\n",
        "!ls -la"
      ],
      "metadata": {
        "id": "uLFm887BxpcI"
      },
      "execution_count": null,
      "outputs": []
    },
    {
      "cell_type": "code",
      "execution_count": null,
      "metadata": {
        "id": "sPs_w8bcU1bm"
      },
      "outputs": [],
      "source": [
        "# Principales librerías\n",
        "import pandas as pd\n",
        "import numpy as np\n",
        "\n",
        "import seaborn as sns\n",
        "import matplotlib.pyplot as plt\n",
        "\n",
        "import warnings\n",
        "warnings.filterwarnings(\"ignore\") # Turn off warnings\n"
      ]
    },
    {
      "cell_type": "code",
      "source": [
        "ratings = pd.read_csv(\"BX-Book-Ratings.csv\", sep=\";\", encoding=\"ISO-8859-1\")\n",
        "books   = pd.read_csv(\"BX-Books.csv\",        sep=\";\", encoding=\"ISO-8859-1\", error_bad_lines=False)\n",
        "users   = pd.read_csv(\"BX-Users.csv\",        sep=\";\", encoding=\"ISO-8859-1\")"
      ],
      "metadata": {
        "id": "w0HCRfqUXp9J"
      },
      "execution_count": null,
      "outputs": []
    },
    {
      "cell_type": "code",
      "source": [
        "users.head()"
      ],
      "metadata": {
        "id": "ofXHH-qra7xZ"
      },
      "execution_count": null,
      "outputs": []
    },
    {
      "cell_type": "code",
      "source": [
        "books.head()"
      ],
      "metadata": {
        "id": "oV10YeKpbCJ2"
      },
      "execution_count": null,
      "outputs": []
    },
    {
      "cell_type": "markdown",
      "source": [
        "<b>Calificaciones explícitas</b>: Están expresadas en una escala del 1-10 (más alta) y representan una calificación explícita por parte del usuario.\n",
        "\n",
        "<b>Calificaciones implícitas</b>: Son expresadas por un 0, indicando que no hay una calificación explícita. En el contexto de este dataset, una calificación de 0 indica una interacción implícita con el libro (por ejemplo, el usuario lo compró o leyó), pero no proporciona una calificación explícita del contenido."
      ],
      "metadata": {
        "id": "5Cr1IT5mxjw0"
      }
    },
    {
      "cell_type": "code",
      "source": [
        "ratings.head()"
      ],
      "metadata": {
        "id": "HwBd4qRTbLrq"
      },
      "execution_count": null,
      "outputs": []
    },
    {
      "cell_type": "code",
      "source": [
        "print(\"  Users: {} \\n  Books: {}\\n  Ratings: {}\".format(len(users), len(books), len(ratings)))\n"
      ],
      "metadata": {
        "id": "otyfiUUlbRhj"
      },
      "execution_count": null,
      "outputs": []
    },
    {
      "cell_type": "code",
      "source": [
        "users.columns = users.columns.str.lower().str.replace('-', '_')\n",
        "books.columns = books.columns.str.lower().str.replace('-', '_')\n",
        "ratings.columns = ratings.columns.str.lower().str.replace('-', '_')"
      ],
      "metadata": {
        "id": "SAjQpxQpbXFh"
      },
      "execution_count": null,
      "outputs": []
    },
    {
      "cell_type": "markdown",
      "source": [
        "### 3. Uniendo data"
      ],
      "metadata": {
        "id": "zb9J_YnLbzf5"
      }
    },
    {
      "cell_type": "code",
      "source": [
        "# Analizaremos únicamente los datos explicitos del usuario-item\n",
        "ratings = ratings[ratings.book_rating > 0]"
      ],
      "metadata": {
        "id": "aIJGBWmQx_gs"
      },
      "execution_count": null,
      "outputs": []
    },
    {
      "cell_type": "code",
      "source": [
        "ratings.head()"
      ],
      "metadata": {
        "id": "f616oIhnzlti"
      },
      "execution_count": null,
      "outputs": []
    },
    {
      "cell_type": "code",
      "source": [
        "# Cruzamos las bases de datos para  obtener una tabla única\n",
        "\n",
        "data = pd.merge(ratings, users, on = 'user_id', how = 'left')\n",
        "data = pd.merge(data,    books, on = 'isbn', how = 'left')\n",
        "data.drop(columns = ['image_url_s', 'image_url_m', 'image_url_l'], inplace = True)\n",
        "\n",
        "data.head()"
      ],
      "metadata": {
        "id": "g8Iium9Mbf9P"
      },
      "execution_count": null,
      "outputs": []
    },
    {
      "cell_type": "code",
      "source": [
        "# Estilo de Seaborn\n",
        "sns.set(style=\"whitegrid\")\n",
        "# figura y eje\n",
        "plt.figure(figsize=(6, 3))\n",
        "sns.histplot(data.book_rating, bins=30, kde=False, color=\"skyblue\")"
      ],
      "metadata": {
        "id": "eBmwrCvnWShs"
      },
      "execution_count": null,
      "outputs": []
    },
    {
      "cell_type": "code",
      "source": [
        "#tratando información del año de publicación\n",
        "data.year_of_publication = pd.to_numeric(data.year_of_publication, errors='coerce')\n"
      ],
      "metadata": {
        "id": "r-HbJtArMvRV"
      },
      "execution_count": null,
      "outputs": []
    },
    {
      "cell_type": "code",
      "source": [
        "# Ejemplo de remoción de outliers\n",
        "lower_threshold = 1964\n",
        "upper_threshold = 2004\n",
        "\n",
        "data = data[(data['year_of_publication'] >= lower_threshold) & (data['year_of_publication'] <= upper_threshold)]\n",
        "data.year_of_publication = data.year_of_publication.astype(int)"
      ],
      "metadata": {
        "id": "B3OvB-1zMvKK"
      },
      "execution_count": null,
      "outputs": []
    },
    {
      "cell_type": "code",
      "source": [
        "#Creando antiguedad del libro\n",
        "data['antiguedad'] = 2008 - data.year_of_publication"
      ],
      "metadata": {
        "id": "y0gMgeFpOk8J"
      },
      "execution_count": null,
      "outputs": []
    },
    {
      "cell_type": "code",
      "source": [
        "# Estilo de Seaborn\n",
        "sns.set(style=\"whitegrid\")\n",
        "\n",
        "# figura y eje\n",
        "plt.figure(figsize=(6, 3))\n",
        "\n",
        "# histograma\n",
        "sns.histplot(data.antiguedad, bins=30, kde=False, color=\"skyblue\")\n",
        "\n",
        "# título y etiquetas a los ejes\n",
        "plt.title('Distribución de antiguedad', fontsize=12)\n",
        "plt.xlabel('Antiguedad', fontsize=10)\n",
        "plt.ylabel('Frecuencia', fontsize=10)\n",
        "\n",
        "# Muestra el histograma\n",
        "plt.show()"
      ],
      "metadata": {
        "id": "GA3MStOtO8SR"
      },
      "execution_count": null,
      "outputs": []
    },
    {
      "cell_type": "code",
      "source": [
        "books_list = data.groupby('book_title')['user_id'].count().reset_index()\n",
        "books_list.sort_values(by = 'user_id', ascending = False, inplace = True)\n",
        "\n",
        "print(f\"{len(books_list)} libros diferentes, nos quedaremos con los más populares para no saturar nuestro Recsys\")"
      ],
      "metadata": {
        "id": "KCnv9QBMOOGR",
        "outputId": "0ee9de41-49f2-4e32-b4a7-91461cfa13c3",
        "colab": {
          "base_uri": "https://localhost:8080/"
        }
      },
      "execution_count": null,
      "outputs": [
        {
          "output_type": "stream",
          "name": "stdout",
          "text": [
            "132690 libros diferentes, nos quedaremos con los más populares para no saturar nuestro Recsys\n"
          ]
        }
      ]
    },
    {
      "cell_type": "code",
      "source": [
        "books_list"
      ],
      "metadata": {
        "id": "YzYZp9fm1NSz"
      },
      "execution_count": null,
      "outputs": []
    },
    {
      "cell_type": "code",
      "source": [
        "books_list[:500]"
      ],
      "metadata": {
        "id": "przjH9oB1sb5"
      },
      "execution_count": null,
      "outputs": []
    },
    {
      "cell_type": "code",
      "source": [
        "# Calculamos los libros más populares\n",
        "pop_books = books_list[:500].book_title.tolist()"
      ],
      "metadata": {
        "id": "7jfQhOlWQ9Np"
      },
      "execution_count": null,
      "outputs": []
    },
    {
      "cell_type": "code",
      "source": [
        "data_v2 = data[data.book_title.isin(pop_books)]"
      ],
      "metadata": {
        "id": "3haC2IRGVo41"
      },
      "execution_count": null,
      "outputs": []
    },
    {
      "cell_type": "code",
      "source": [
        "data_v2.head()"
      ],
      "metadata": {
        "id": "gyWtyq32XSsS"
      },
      "execution_count": null,
      "outputs": []
    },
    {
      "cell_type": "markdown",
      "source": [
        "Dicotomizaremos la variable objetivo para que el modelo aprenda la probabilidad de que el cliente tenga afinidad con el libro. Esta estrategia es bastante utilizada en las aplicaciones de Recsys pero no olvidemos que también se puede apuntar a predecir directamente el rating del cliente."
      ],
      "metadata": {
        "id": "QfszeJEtXgMA"
      }
    },
    {
      "cell_type": "code",
      "source": [
        "data_v2['target'] = data_v2.book_rating.apply(lambda x: 1 if x > 7 else 0)"
      ],
      "metadata": {
        "id": "BM8LFanNX992"
      },
      "execution_count": null,
      "outputs": []
    },
    {
      "cell_type": "code",
      "source": [
        "data_v2.head()"
      ],
      "metadata": {
        "id": "33FdYMRMYmx_"
      },
      "execution_count": null,
      "outputs": []
    },
    {
      "cell_type": "code",
      "source": [
        "# figura y eje\n",
        "plt.figure(figsize=(6, 3))\n",
        "# Analizando el target\n",
        "sns.countplot(x='target', data = data_v2, palette = 'hls')\n",
        "plt.title('¿La data presenta desbalance?', fontsize=12)\n"
      ],
      "metadata": {
        "id": "TIr_nR-SYsd3"
      },
      "execution_count": null,
      "outputs": []
    },
    {
      "cell_type": "markdown",
      "source": [
        "### 4. Muestreo de datos"
      ],
      "metadata": {
        "id": "Y_mZc6VWa8Ct"
      }
    },
    {
      "cell_type": "code",
      "source": [
        "# Muestreo de data\n",
        "from sklearn.model_selection import train_test_split\n",
        "\n",
        "train, test = train_test_split(data_v2,\n",
        "                               stratify = data_v2.target, # Recuerda estratificar para evitar sesgos durante el muestreo\n",
        "                               train_size = 0.6,\n",
        "                               random_state = 123)\n",
        "\n",
        "watch, test = train_test_split(test,\n",
        "                               stratify = test.target, # Recuerda estratificar para evitar sesgos durante el muestreo\n",
        "                               train_size = 0.5,\n",
        "                               random_state = 123)\n",
        "\n",
        "# El muestreo puede hacerse por cliente o por enmascaramiento como en anteriores ejercicios."
      ],
      "metadata": {
        "id": "7rrZaiZra-wW"
      },
      "execution_count": null,
      "outputs": []
    },
    {
      "cell_type": "markdown",
      "source": [
        "### 5. Tratamiento de variables"
      ],
      "metadata": {
        "id": "ZCUCh6M-an1U"
      }
    },
    {
      "cell_type": "markdown",
      "source": [
        "Variable de locacion"
      ],
      "metadata": {
        "id": "ONx84fV3dUzP"
      }
    },
    {
      "cell_type": "code",
      "source": [
        "train.head()"
      ],
      "metadata": {
        "id": "wzWxR2NIasru"
      },
      "execution_count": null,
      "outputs": []
    },
    {
      "cell_type": "code",
      "source": [
        "temp = train.groupby('location')['user_id'].count().reset_index()\n",
        "temp.sort_values(by = 'user_id', ascending = False)"
      ],
      "metadata": {
        "id": "Mk-uwe2Xc2DC"
      },
      "execution_count": null,
      "outputs": []
    },
    {
      "cell_type": "code",
      "source": [
        "# Función para extraer los n últimos elementos y unirlos con ','\n",
        "def extract_last_n(location, n):\n",
        "    parts = location.split(', ')\n",
        "    return ', '.join(parts[-n:])\n",
        "\n",
        "# Generar agregaciones\n",
        "train['location_level2'] = train['location'].apply(lambda x: extract_last_n(x, 2))\n",
        "train['location_level3'] = train['location'].apply(lambda x: extract_last_n(x, 1))\n",
        "\n",
        "test['location_level2'] = test['location'].apply(lambda x: extract_last_n(x, 2))\n",
        "test['location_level3'] = test['location'].apply(lambda x: extract_last_n(x, 1))\n",
        "\n",
        "watch['location_level2'] = watch['location'].apply(lambda x: extract_last_n(x, 2))\n",
        "watch['location_level3'] = watch['location'].apply(lambda x: extract_last_n(x, 1))"
      ],
      "metadata": {
        "id": "i-d3XIhLdzd4"
      },
      "execution_count": null,
      "outputs": []
    },
    {
      "cell_type": "code",
      "source": [
        "train.head()"
      ],
      "metadata": {
        "id": "R4gUmO_geQ0p"
      },
      "execution_count": null,
      "outputs": []
    },
    {
      "cell_type": "code",
      "source": [
        "temp = train.groupby('location_level2')['user_id'].count().reset_index()\n",
        "temp = temp[temp.user_id > 30]\n",
        "temp.sort_values(by = 'user_id', ascending = False)"
      ],
      "metadata": {
        "id": "KjBwAibreVNo"
      },
      "execution_count": null,
      "outputs": []
    },
    {
      "cell_type": "code",
      "source": [
        "temp = train.groupby('location_level3')['user_id'].count().reset_index()\n",
        "temp = temp[temp.user_id > 30]\n",
        "temp.sort_values(by = 'user_id', ascending = False)"
      ],
      "metadata": {
        "id": "EcIdtOLDfQ9V"
      },
      "execution_count": null,
      "outputs": []
    },
    {
      "cell_type": "code",
      "source": [
        "# Creando variable mixta de locacion\n",
        "train['location_f'] = train.apply(lambda row: row['location_level2'] if row['location_level3'] == 'usa' else row['location_level3'], axis=1)\n",
        "test['location_f']  = test.apply(lambda row: row['location_level2'] if row['location_level3'] == 'usa' else row['location_level3'], axis=1)\n",
        "watch['location_f'] = watch.apply(lambda row: row['location_level2'] if row['location_level3'] == 'usa' else row['location_level3'], axis=1)\n"
      ],
      "metadata": {
        "id": "XSWDcK2-f_eO"
      },
      "execution_count": null,
      "outputs": []
    },
    {
      "cell_type": "code",
      "source": [
        "train.head()"
      ],
      "metadata": {
        "id": "iqiMHdVbi8Bp"
      },
      "execution_count": null,
      "outputs": []
    },
    {
      "cell_type": "markdown",
      "source": [
        "**Encoding**\n",
        "\n",
        "El encoding de variables categóricas convierte las categorías de texto en números de una manera que puede ser utilizada de manera eficiente por los algoritmos de machine learning.\n"
      ],
      "metadata": {
        "id": "a8DJYF1vfrCS"
      }
    },
    {
      "cell_type": "code",
      "source": [
        "train.head()"
      ],
      "metadata": {
        "id": "h8_xO_cMfrgU"
      },
      "execution_count": null,
      "outputs": []
    },
    {
      "cell_type": "code",
      "source": [
        "catergory_features = ['book_title', 'book_author', 'publisher', 'location_f']"
      ],
      "metadata": {
        "id": "_sttbtK7k6gi"
      },
      "execution_count": null,
      "outputs": []
    },
    {
      "cell_type": "code",
      "source": [
        "%%capture\n",
        "!pip3 install category_encoders"
      ],
      "metadata": {
        "id": "tRWATpUfjxhw"
      },
      "execution_count": null,
      "outputs": []
    },
    {
      "cell_type": "code",
      "source": [
        "# Aplicando category encoders\n",
        "from category_encoders import TargetEncoder\n",
        "\n",
        "encoder = TargetEncoder(handle_unknown = 'infrequent_if_exist',\n",
        "                        handle_missing = 'value',\n",
        "                        min_samples_leaf = 30)\n",
        "\n",
        "encoder.fit(train[catergory_features].astype('category'), train['target'])\n"
      ],
      "metadata": {
        "id": "oafM9sH8kzcI",
        "outputId": "452d1268-c96b-4774-8b4d-a2c5dce4c208",
        "colab": {
          "base_uri": "https://localhost:8080/",
          "height": 92
        }
      },
      "execution_count": null,
      "outputs": [
        {
          "output_type": "execute_result",
          "data": {
            "text/plain": [
              "TargetEncoder(cols=['book_title', 'book_author', 'publisher', 'location_f'],\n",
              "              handle_unknown='infrequent_if_exist', min_samples_leaf=30)"
            ],
            "text/html": [
              "<style>#sk-container-id-1 {color: black;background-color: white;}#sk-container-id-1 pre{padding: 0;}#sk-container-id-1 div.sk-toggleable {background-color: white;}#sk-container-id-1 label.sk-toggleable__label {cursor: pointer;display: block;width: 100%;margin-bottom: 0;padding: 0.3em;box-sizing: border-box;text-align: center;}#sk-container-id-1 label.sk-toggleable__label-arrow:before {content: \"▸\";float: left;margin-right: 0.25em;color: #696969;}#sk-container-id-1 label.sk-toggleable__label-arrow:hover:before {color: black;}#sk-container-id-1 div.sk-estimator:hover label.sk-toggleable__label-arrow:before {color: black;}#sk-container-id-1 div.sk-toggleable__content {max-height: 0;max-width: 0;overflow: hidden;text-align: left;background-color: #f0f8ff;}#sk-container-id-1 div.sk-toggleable__content pre {margin: 0.2em;color: black;border-radius: 0.25em;background-color: #f0f8ff;}#sk-container-id-1 input.sk-toggleable__control:checked~div.sk-toggleable__content {max-height: 200px;max-width: 100%;overflow: auto;}#sk-container-id-1 input.sk-toggleable__control:checked~label.sk-toggleable__label-arrow:before {content: \"▾\";}#sk-container-id-1 div.sk-estimator input.sk-toggleable__control:checked~label.sk-toggleable__label {background-color: #d4ebff;}#sk-container-id-1 div.sk-label input.sk-toggleable__control:checked~label.sk-toggleable__label {background-color: #d4ebff;}#sk-container-id-1 input.sk-hidden--visually {border: 0;clip: rect(1px 1px 1px 1px);clip: rect(1px, 1px, 1px, 1px);height: 1px;margin: -1px;overflow: hidden;padding: 0;position: absolute;width: 1px;}#sk-container-id-1 div.sk-estimator {font-family: monospace;background-color: #f0f8ff;border: 1px dotted black;border-radius: 0.25em;box-sizing: border-box;margin-bottom: 0.5em;}#sk-container-id-1 div.sk-estimator:hover {background-color: #d4ebff;}#sk-container-id-1 div.sk-parallel-item::after {content: \"\";width: 100%;border-bottom: 1px solid gray;flex-grow: 1;}#sk-container-id-1 div.sk-label:hover label.sk-toggleable__label {background-color: #d4ebff;}#sk-container-id-1 div.sk-serial::before {content: \"\";position: absolute;border-left: 1px solid gray;box-sizing: border-box;top: 0;bottom: 0;left: 50%;z-index: 0;}#sk-container-id-1 div.sk-serial {display: flex;flex-direction: column;align-items: center;background-color: white;padding-right: 0.2em;padding-left: 0.2em;position: relative;}#sk-container-id-1 div.sk-item {position: relative;z-index: 1;}#sk-container-id-1 div.sk-parallel {display: flex;align-items: stretch;justify-content: center;background-color: white;position: relative;}#sk-container-id-1 div.sk-item::before, #sk-container-id-1 div.sk-parallel-item::before {content: \"\";position: absolute;border-left: 1px solid gray;box-sizing: border-box;top: 0;bottom: 0;left: 50%;z-index: -1;}#sk-container-id-1 div.sk-parallel-item {display: flex;flex-direction: column;z-index: 1;position: relative;background-color: white;}#sk-container-id-1 div.sk-parallel-item:first-child::after {align-self: flex-end;width: 50%;}#sk-container-id-1 div.sk-parallel-item:last-child::after {align-self: flex-start;width: 50%;}#sk-container-id-1 div.sk-parallel-item:only-child::after {width: 0;}#sk-container-id-1 div.sk-dashed-wrapped {border: 1px dashed gray;margin: 0 0.4em 0.5em 0.4em;box-sizing: border-box;padding-bottom: 0.4em;background-color: white;}#sk-container-id-1 div.sk-label label {font-family: monospace;font-weight: bold;display: inline-block;line-height: 1.2em;}#sk-container-id-1 div.sk-label-container {text-align: center;}#sk-container-id-1 div.sk-container {/* jupyter's `normalize.less` sets `[hidden] { display: none; }` but bootstrap.min.css set `[hidden] { display: none !important; }` so we also need the `!important` here to be able to override the default hidden behavior on the sphinx rendered scikit-learn.org. See: https://github.com/scikit-learn/scikit-learn/issues/21755 */display: inline-block !important;position: relative;}#sk-container-id-1 div.sk-text-repr-fallback {display: none;}</style><div id=\"sk-container-id-1\" class=\"sk-top-container\"><div class=\"sk-text-repr-fallback\"><pre>TargetEncoder(cols=[&#x27;book_title&#x27;, &#x27;book_author&#x27;, &#x27;publisher&#x27;, &#x27;location_f&#x27;],\n",
              "              handle_unknown=&#x27;infrequent_if_exist&#x27;, min_samples_leaf=30)</pre><b>In a Jupyter environment, please rerun this cell to show the HTML representation or trust the notebook. <br />On GitHub, the HTML representation is unable to render, please try loading this page with nbviewer.org.</b></div><div class=\"sk-container\" hidden><div class=\"sk-item\"><div class=\"sk-estimator sk-toggleable\"><input class=\"sk-toggleable__control sk-hidden--visually\" id=\"sk-estimator-id-1\" type=\"checkbox\" checked><label for=\"sk-estimator-id-1\" class=\"sk-toggleable__label sk-toggleable__label-arrow\">TargetEncoder</label><div class=\"sk-toggleable__content\"><pre>TargetEncoder(cols=[&#x27;book_title&#x27;, &#x27;book_author&#x27;, &#x27;publisher&#x27;, &#x27;location_f&#x27;],\n",
              "              handle_unknown=&#x27;infrequent_if_exist&#x27;, min_samples_leaf=30)</pre></div></div></div></div></div>"
            ]
          },
          "metadata": {},
          "execution_count": 39
        }
      ]
    },
    {
      "cell_type": "code",
      "source": [
        "# Aplicando transformaciones sobre  variables\n",
        "\n",
        "train[[x + '_coded' for x in catergory_features]] = encoder.transform(train[catergory_features].astype('category'))\n",
        "test[[x + '_coded' for x in catergory_features]]  = encoder.transform(test[catergory_features].astype('category'))\n",
        "watch[[x + '_coded' for x in catergory_features]] = encoder.transform(watch[catergory_features].astype('category'))\n"
      ],
      "metadata": {
        "id": "SCzt_krYljOu"
      },
      "execution_count": null,
      "outputs": []
    },
    {
      "cell_type": "code",
      "source": [
        "train.head()"
      ],
      "metadata": {
        "id": "Z0MaRpyGmXe7"
      },
      "execution_count": null,
      "outputs": []
    },
    {
      "cell_type": "markdown",
      "source": [
        "### 6. XGBoost\n",
        "\n",
        "\n"
      ],
      "metadata": {
        "id": "TDnRZ9Ywb293"
      }
    },
    {
      "cell_type": "code",
      "source": [
        "import xgboost as xgb\n",
        "from sklearn.metrics import *"
      ],
      "metadata": {
        "id": "h-aApvRYmtjb"
      },
      "execution_count": null,
      "outputs": []
    },
    {
      "cell_type": "code",
      "source": [
        "features = ['age', 'antiguedad', 'book_title_coded', 'book_author_coded', 'publisher_coded', 'location_f_coded']"
      ],
      "metadata": {
        "id": "ofVn4FclnFKF"
      },
      "execution_count": null,
      "outputs": []
    },
    {
      "cell_type": "code",
      "source": [
        "# Definimos los parámetros para el Grid Search\n",
        "\n",
        "param_grid = {'objective': ['binary:logistic'],\n",
        "              'booster' : ['gbtree'],\n",
        "              'learning_rate': [0.01, 0.05, 0.1],\n",
        "              'max_depth': [3, 5, 7],\n",
        "              'colsample_bytree': [0.7, 1],\n",
        "              'subsample': [0.7, 1]}\n"
      ],
      "metadata": {
        "id": "4bnCIvKHovH8"
      },
      "execution_count": null,
      "outputs": []
    },
    {
      "cell_type": "code",
      "source": [
        "%%time\n",
        "from sklearn.model_selection import GridSearchCV\n",
        "\n",
        "# Crear clasificador\n",
        "xgBoost = xgb.XGBClassifier(use_label_encoder=False, n_estimators = 500)\n",
        "\n",
        "\n",
        "# Crear objeto GridSearchCV\n",
        "grid_search = GridSearchCV(xgBoost,\n",
        "                           param_grid,\n",
        "                           scoring = make_scorer(auc),\n",
        "                           cv = 3,  # Número de folds en la validación cruzada\n",
        "                           verbose = 2,  # Verbosidad del output\n",
        "                           n_jobs = -1  # Uso de todos los núcleos disponibles\n",
        "                          )\n",
        "\n",
        "# Realizar búsqueda de parámetros\n",
        "grid_search.fit(train[features],\n",
        "                train.target,\n",
        "                early_stopping_rounds = 10,\n",
        "                eval_metric = \"auc\",\n",
        "                eval_set=[(watch[features], watch.target)],\n",
        "                verbose = True)\n",
        "\n"
      ],
      "metadata": {
        "id": "yIGOyCIbqOfl"
      },
      "execution_count": null,
      "outputs": []
    },
    {
      "cell_type": "code",
      "source": [
        "# Obtener el mejor modelo\n",
        "best_model = grid_search.best_estimator_\n",
        "\n",
        "# Si deseas, también puedes extraer y visualizar los mejores parámetros encontrados\n",
        "best_params = grid_search.best_params_\n",
        "print(f\"Best parameters found: {best_params}\")\n"
      ],
      "metadata": {
        "id": "2CzWrOv_zIw4",
        "outputId": "5757eb2b-80c4-47d8-9f83-6876a7356e7e",
        "colab": {
          "base_uri": "https://localhost:8080/"
        }
      },
      "execution_count": null,
      "outputs": [
        {
          "output_type": "stream",
          "name": "stdout",
          "text": [
            "Best parameters found: {'booster': 'gbtree', 'colsample_bytree': 0.7, 'learning_rate': 0.01, 'max_depth': 3, 'objective': 'binary:logistic', 'subsample': 0.7}\n"
          ]
        }
      ]
    },
    {
      "cell_type": "code",
      "source": [
        "%%capture\n",
        "!pip install --upgrade xgboost"
      ],
      "metadata": {
        "id": "zRPFYX2cF8jh"
      },
      "execution_count": null,
      "outputs": []
    },
    {
      "cell_type": "code",
      "source": [
        "# Entrenando el modelo final\n",
        "\n",
        "xgBoost = xgb.XGBClassifier(use_label_encoder=False,\n",
        "                            n_estimators = 500, **best_params)\n",
        "\n",
        "xgBoost.fit(train[features],\n",
        "            train.target,\n",
        "            early_stopping_rounds=10,\n",
        "            eval_metric=\"auc\",\n",
        "            eval_set=[(train[features], train.target), (watch[features], watch.target)],\n",
        "            verbose=True)\n",
        "\n",
        "\n",
        "# Extraer los resultados de evaluación\n",
        "results = xgBoost.evals_result()\n"
      ],
      "metadata": {
        "id": "_oTNHTlIuB9b"
      },
      "execution_count": null,
      "outputs": []
    },
    {
      "cell_type": "code",
      "source": [
        "epochs = len(results['validation_0']['auc'])\n",
        "x_axis = range(0, epochs)\n",
        "\n",
        "# Ajusta el tamaño\n",
        "fig, ax = plt.subplots(figsize=(8, 4))\n",
        "\n",
        "ax.plot(x_axis, results['validation_0']['auc'], label='Train')\n",
        "ax.plot(x_axis, results['validation_1']['auc'], label='Watch')\n",
        "\n",
        "ax.set_ylim([0.6, 0.7])  # Para limitar la cantidad de epochs\n",
        "\n",
        "ax.legend()\n",
        "plt.ylabel('AUC')\n",
        "plt.title('XGBoost AUC')\n",
        "plt.show()"
      ],
      "metadata": {
        "id": "vPOED4-UFTaE"
      },
      "execution_count": null,
      "outputs": []
    },
    {
      "cell_type": "code",
      "source": [
        "# Definir tamaño\n",
        "fig, ax = plt.subplots(figsize=(5, 3))\n",
        "\n",
        "# Graficar la importancia de las variables\n",
        "xgb.plot_importance(xgBoost, importance_type=\"total_gain\", ax=ax, title=\"Feature Importance (Gain)\", show_values=False)\n",
        "\n",
        "# Mostrar el gráfico\n",
        "plt.show()"
      ],
      "metadata": {
        "id": "D-KNXdNp8KqK"
      },
      "execution_count": null,
      "outputs": []
    },
    {
      "cell_type": "markdown",
      "source": [
        "### 7. Evaluación del modelo"
      ],
      "metadata": {
        "id": "wy8C8qLz0061"
      }
    },
    {
      "cell_type": "code",
      "source": [
        "from scipy.stats import ks_2samp\n",
        "\n",
        "# Definir métricas adicionales\n",
        "def gini(y_true, y_score):\n",
        "    auc = roc_auc_score(y_true, y_score)\n",
        "    return 2*auc - 1\n",
        "\n",
        "def ks_statistic(y_true, y_score):\n",
        "    return ks_2samp(y_score[y_true == 1], y_score[y_true == 0]).statistic"
      ],
      "metadata": {
        "id": "NvmeRX165N5K"
      },
      "execution_count": null,
      "outputs": []
    },
    {
      "cell_type": "code",
      "source": [
        "# predicción del modelo\n",
        "train['prediction'] = xgBoost.predict_proba(train[features])[:, 1]\n",
        "test['prediction']  = xgBoost.predict_proba(test[features])[:, 1]\n",
        "watch['prediction'] = xgBoost.predict_proba(watch[features])[:, 1]\n"
      ],
      "metadata": {
        "id": "hop8YtxW3_LO"
      },
      "execution_count": null,
      "outputs": []
    },
    {
      "cell_type": "code",
      "source": [
        "results = pd.DataFrame(columns=['Metric', 'Train', 'Test', 'Watch'])\n",
        "\n",
        "metrics = [\n",
        "    (\"Accuracy\", accuracy_score),\n",
        "    (\"Precision\", precision_score),\n",
        "    (\"Recall\", recall_score),\n",
        "    (\"F1 Score\", f1_score),\n",
        "    (\"AUC-ROC\", roc_auc_score),\n",
        "    (\"Gini\", gini),\n",
        "    (\"KS Statistic\", ks_statistic),\n",
        "    (\"Jaccard\", jaccard_score)\n",
        "]\n",
        "\n",
        "for metric_name, metric_func in metrics:\n",
        "    if metric_name in [\"Gini\", \"KS Statistic\"]:  # Si la métrica requiere probabilidades\n",
        "        train_score = metric_func(train['target'], train['prediction'])\n",
        "        test_score = metric_func(test['target'], test['prediction'])\n",
        "        watch_score = metric_func(watch['target'], watch['prediction'])\n",
        "\n",
        "    else:  # Si la métrica se aplica a etiquetas\n",
        "        train_score = metric_func(train['target'], train['prediction'].apply(lambda x: 1 if x > 0.5 else 0))\n",
        "        test_score = metric_func(test['target'],   test['prediction'].apply(lambda x: 1 if x > 0.5 else 0))\n",
        "        watch_score = metric_func(watch['target'], watch['prediction'].apply(lambda x: 1 if x > 0.5 else 0))\n",
        "\n",
        "    results = results.append({\n",
        "        'Metric': metric_name,\n",
        "        'Train': train_score,\n",
        "        'Test': test_score,\n",
        "        'Watch': watch_score\n",
        "    }, ignore_index=True)\n",
        "\n",
        "\n",
        "pd.set_option('display.float_format', '{:.2f}'.format)\n",
        "\n",
        "# Mostrar los resultados\n",
        "results"
      ],
      "metadata": {
        "id": "-rTzBlCS39vL"
      },
      "execution_count": null,
      "outputs": []
    },
    {
      "cell_type": "markdown",
      "source": [
        "### 8. ANN"
      ],
      "metadata": {
        "id": "lskKWGpwvQoB"
      }
    },
    {
      "cell_type": "code",
      "source": [
        "import tensorflow as tf\n",
        "from tensorflow import keras\n",
        "from sklearn.preprocessing import StandardScaler"
      ],
      "metadata": {
        "id": "aW8168rQvUnQ"
      },
      "execution_count": null,
      "outputs": []
    },
    {
      "cell_type": "code",
      "source": [
        "# Estandarización\n",
        "\n",
        "scaler = StandardScaler()\n",
        "train_std = scaler.fit_transform(train[features].fillna(0))\n",
        "watch_std  = scaler.transform(watch[features].fillna(0))\n",
        "test_std  = scaler.transform(test[features].fillna(0))\n"
      ],
      "metadata": {
        "id": "9W9kaoOwvw3c"
      },
      "execution_count": null,
      "outputs": []
    },
    {
      "cell_type": "code",
      "source": [
        "# Arquitectura de la red\n",
        "\n",
        "model = keras.Sequential([\n",
        "    keras.layers.Dense(32, activation='relu', kernel_initializer='glorot_uniform', input_shape=(train_std.shape[1],)),\n",
        "    #keras.layers.Dropout(0.5),  # Capa de dropout\n",
        "    keras.layers.Dense(16, activation='relu'),\n",
        "    keras.layers.Dense(8, activation='relu'),\n",
        "    keras.layers.Dense(1, activation='sigmoid')\n",
        "])\n"
      ],
      "metadata": {
        "id": "Ej4IT-iUwbB9"
      },
      "execution_count": null,
      "outputs": []
    },
    {
      "cell_type": "code",
      "source": [
        "# Compilar el modelo\n",
        "#optimizer = keras.optimizers.Adam(learning_rate=0.01)  # Ajusta la tasa de aprendizaje según sea necesario\n",
        "optimizer = keras.optimizers.Adagrad(learning_rate=0.01)\n",
        "\n",
        "model.compile(optimizer=optimizer, loss='binary_crossentropy', metrics=['accuracy'])\n"
      ],
      "metadata": {
        "id": "Nk78j7MDwoRI"
      },
      "execution_count": null,
      "outputs": []
    },
    {
      "cell_type": "code",
      "source": [
        "\n",
        "early_stopping = keras.callbacks.EarlyStopping(monitor='val_loss', patience=10, restore_best_weights=True)\n",
        "reduce_lr = keras.callbacks.ReduceLROnPlateau(monitor='val_loss', factor=0.2, patience=5, min_lr=0.0001)\n",
        "\n",
        "# Entrenar el modelo con Early Stopping y reducción de la tasa de aprendizaje\n",
        "history = model.fit(train_std, train.target, epochs=100, batch_size=64, validation_data=(watch_std, watch.target), verbose=1, callbacks=[early_stopping, reduce_lr])\n"
      ],
      "metadata": {
        "id": "6S_6difpwpKM"
      },
      "execution_count": null,
      "outputs": []
    },
    {
      "cell_type": "code",
      "source": [
        "# predicción del modelo\n",
        "train['prediction'] = model.predict(scaler.transform(train[features].fillna(0)))\n",
        "test['prediction']  = model.predict(scaler.transform(test[features].fillna(0)))\n",
        "watch['prediction'] = model.predict(scaler.transform(watch[features].fillna(0)))\n"
      ],
      "metadata": {
        "id": "POPUNhTlyHkv"
      },
      "execution_count": null,
      "outputs": []
    },
    {
      "cell_type": "code",
      "source": [
        "results_ANN = pd.DataFrame(columns=['Metric', 'Train', 'Test', 'Watch'])\n",
        "\n",
        "metrics = [\n",
        "    (\"Accuracy\", accuracy_score),\n",
        "    (\"Precision\", precision_score),\n",
        "    (\"Recall\", recall_score),\n",
        "    (\"F1 Score\", f1_score),\n",
        "    (\"AUC-ROC\", roc_auc_score),\n",
        "    (\"Gini\", gini),\n",
        "    (\"KS Statistic\", ks_statistic),\n",
        "    (\"Jaccard\", jaccard_score)\n",
        "]\n",
        "\n",
        "for metric_name, metric_func in metrics:\n",
        "    if metric_name in [\"Gini\", \"KS Statistic\"]:  # Si la métrica requiere probabilidades\n",
        "        train_score = metric_func(train['target'], train['prediction'])\n",
        "        test_score = metric_func(test['target'], test['prediction'])\n",
        "        watch_score = metric_func(watch['target'], watch['prediction'])\n",
        "\n",
        "    else:  # Si la métrica se aplica a etiquetas\n",
        "        train_score = metric_func(train['target'], train['prediction'].apply(lambda x: 1 if x > 0.5 else 0))\n",
        "        test_score = metric_func(test['target'],   test['prediction'].apply(lambda x: 1 if x > 0.5 else 0))\n",
        "        watch_score = metric_func(watch['target'], watch['prediction'].apply(lambda x: 1 if x > 0.5 else 0))\n",
        "\n",
        "    results_ANN = results_ANN.append({\n",
        "        'Metric': metric_name,\n",
        "        'Train': train_score,\n",
        "        'Test': test_score,\n",
        "        'Watch': watch_score\n",
        "    }, ignore_index=True)\n",
        "\n",
        "\n",
        "pd.set_option('display.float_format', '{:.2f}'.format)\n",
        "\n",
        "# Mostrar los resultados\n",
        "results_ANN"
      ],
      "metadata": {
        "id": "OlNd4gYL294a"
      },
      "execution_count": null,
      "outputs": []
    },
    {
      "cell_type": "markdown",
      "source": [
        "### 9. Métodos de ensamble"
      ],
      "metadata": {
        "id": "pFloUNYw3rW3"
      }
    },
    {
      "cell_type": "markdown",
      "source": [
        " <b> Output Fusion </b>"
      ],
      "metadata": {
        "id": "bBnV1dq93usV"
      }
    },
    {
      "cell_type": "code",
      "source": [],
      "metadata": {
        "id": "KgUVQUNB3uKh"
      },
      "execution_count": null,
      "outputs": []
    },
    {
      "cell_type": "markdown",
      "source": [
        " <b> Weighted ensemble recommender </b>"
      ],
      "metadata": {
        "id": "l8_GDpI53vIR"
      }
    },
    {
      "cell_type": "code",
      "source": [],
      "metadata": {
        "id": "VRmYHqer4LW3"
      },
      "execution_count": null,
      "outputs": []
    },
    {
      "cell_type": "markdown",
      "source": [
        "<b> Staking methods </b>"
      ],
      "metadata": {
        "id": "8v4iYwAd3vfu"
      }
    },
    {
      "cell_type": "code",
      "source": [],
      "metadata": {
        "id": "rkWjtr5X4L1A"
      },
      "execution_count": null,
      "outputs": []
    },
    {
      "cell_type": "markdown",
      "source": [
        "### 8. Utilizando nuestro RecSys"
      ],
      "metadata": {
        "id": "2daoP7Lt7ciX"
      }
    },
    {
      "cell_type": "code",
      "source": [
        "# Seleccionamos un cliente cualquiera\n",
        "test[test.user_id == 16795].head()\n"
      ],
      "metadata": {
        "id": "Sr5Eh1nk96iJ"
      },
      "execution_count": null,
      "outputs": []
    },
    {
      "cell_type": "code",
      "source": [
        "train[train.user_id == 16795].head()\n"
      ],
      "metadata": {
        "id": "X0yNYf8L91vH"
      },
      "execution_count": null,
      "outputs": []
    },
    {
      "cell_type": "code",
      "source": [
        "train[train.user_id == 16795][['user_id'] + features].head()"
      ],
      "metadata": {
        "id": "ClJEcydr-vlh"
      },
      "execution_count": null,
      "outputs": []
    },
    {
      "cell_type": "code",
      "source": [
        "df_user = test[test.user_id == 16795][['user_id', 'age', 'location_f', 'location_f_coded']].drop_duplicates()\n",
        "df_user.head()"
      ],
      "metadata": {
        "id": "TI6r99k6_8bf"
      },
      "execution_count": null,
      "outputs": []
    },
    {
      "cell_type": "code",
      "source": [
        "# Información de todos los ítems\n",
        "df_books = train[['antiguedad',\t'book_title',\t'book_author',\t'publisher', 'book_title_coded',\t'book_author_coded',\t'publisher_coded']].drop_duplicates()\n",
        "df_books['user_id'] =  16795"
      ],
      "metadata": {
        "id": "uoA9pEwl_R9g"
      },
      "execution_count": null,
      "outputs": []
    },
    {
      "cell_type": "code",
      "source": [
        "\n",
        "df_user_items = pd.merge(df_user, df_books, on = 'user_id', how = 'left')\n",
        "df_user_items.head()\n"
      ],
      "metadata": {
        "id": "lYfhwUNeARoX"
      },
      "execution_count": null,
      "outputs": []
    },
    {
      "cell_type": "code",
      "source": [
        "df_user_items['prediction'] = xgBoost.predict_proba(df_user_items[features])[:, 1]\n",
        "df_user_items = df_user_items.sort_values(by = 'prediction', ascending = False).drop_duplicates()\n",
        "df_user_items.head()"
      ],
      "metadata": {
        "id": "B78-LfgbBCZb"
      },
      "execution_count": null,
      "outputs": []
    },
    {
      "cell_type": "code",
      "source": [
        "# Items que el sistema le recomienda\n",
        "df_user_items[df_user_items.prediction > 0.5].head(10).book_title.tolist()"
      ],
      "metadata": {
        "id": "6TDkLZa4Bwaa"
      },
      "execution_count": null,
      "outputs": []
    },
    {
      "cell_type": "code",
      "source": [
        "# Items que vio\n",
        "test[(test.user_id == 16795) & (test.book_rating > 6)].head(10).book_title.tolist()\n"
      ],
      "metadata": {
        "id": "1t-LHqW5B8Lu"
      },
      "execution_count": null,
      "outputs": []
    },
    {
      "cell_type": "code",
      "source": [
        "train[(train.user_id == 16795) & (train.book_rating > 6)].head(10).book_title.tolist()\n"
      ],
      "metadata": {
        "id": "iLpHwp5WC4fb"
      },
      "execution_count": null,
      "outputs": []
    },
    {
      "cell_type": "markdown",
      "source": [
        "---\n",
        "## Gracias por completar este laboratorio!"
      ],
      "metadata": {
        "id": "Ou7U5hlgp5nz"
      }
    }
  ]
}